{
 "cells": [
  {
   "cell_type": "code",
   "execution_count": 1,
   "metadata": {},
   "outputs": [],
   "source": [
    "import numpy as np\n",
    "import matplotlib.pyplot as plt\n",
    "plt.style.use('fivethirtyeight')"
   ]
  },
  {
   "cell_type": "markdown",
   "metadata": {},
   "source": [
    "# NLP Concepts 2"
   ]
  },
  {
   "cell_type": "markdown",
   "metadata": {},
   "source": [
    "## Dot product"
   ]
  },
  {
   "cell_type": "code",
   "execution_count": 2,
   "metadata": {},
   "outputs": [],
   "source": [
    "u = np.array([1, 2, 3])\n",
    "v = np.array([4, 5, 6])"
   ]
  },
  {
   "cell_type": "code",
   "execution_count": 7,
   "metadata": {},
   "outputs": [
    {
     "data": {
      "text/plain": [
       "32"
      ]
     },
     "execution_count": 7,
     "metadata": {},
     "output_type": "execute_result"
    }
   ],
   "source": [
    "1*4 + 2*5 + 3*6"
   ]
  },
  {
   "cell_type": "code",
   "execution_count": 8,
   "metadata": {},
   "outputs": [
    {
     "data": {
      "text/plain": [
       "32"
      ]
     },
     "execution_count": 8,
     "metadata": {},
     "output_type": "execute_result"
    }
   ],
   "source": [
    "u.T @ v"
   ]
  },
  {
   "cell_type": "markdown",
   "metadata": {},
   "source": [
    "## Sigmoid function\n",
    "\n",
    "$$ \\Large \\sigma(x) = \\frac{1}{1 + e^{-x}}$$\n",
    "\n",
    "<br><br><br>"
   ]
  },
  {
   "cell_type": "code",
   "execution_count": 9,
   "metadata": {},
   "outputs": [],
   "source": [
    "def sigmoid(x):\n",
    "    return 1 / (1 + np.exp(-x))"
   ]
  },
  {
   "cell_type": "code",
   "execution_count": 26,
   "metadata": {},
   "outputs": [
    {
     "data": {
      "text/plain": [
       "array([0.73105858, 0.88079708, 0.95257413, 0.98201379, 0.99330715,\n",
       "       0.99752738])"
      ]
     },
     "execution_count": 26,
     "metadata": {},
     "output_type": "execute_result"
    }
   ],
   "source": [
    "x = np.array([1, 2, 3, 4, 5, 6])\n",
    "sigmoid(x)"
   ]
  },
  {
   "cell_type": "markdown",
   "metadata": {},
   "source": [
    "## Softmax function\n",
    "\n",
    "$$ \\Large softmax(x) = \\frac{exp(x)}{\\Sigma_{i=0}^X exp(x_i)}$$"
   ]
  },
  {
   "cell_type": "code",
   "execution_count": 27,
   "metadata": {},
   "outputs": [],
   "source": [
    "def softmax(x):\n",
    "    return np.exp(x) / np.sum(np.exp(x))"
   ]
  },
  {
   "cell_type": "code",
   "execution_count": 28,
   "metadata": {},
   "outputs": [
    {
     "data": {
      "text/plain": [
       "<BarContainer object of 6 artists>"
      ]
     },
     "execution_count": 28,
     "metadata": {},
     "output_type": "execute_result"
    },
    {
     "data": {
      "image/png": "[encoded data removed]",
      "text/plain": [
       "<Figure size 432x288 with 1 Axes>"
      ]
     },
     "metadata": {},
     "output_type": "display_data"
    }
   ],
   "source": [
    "plt.bar(x, softmax(x))"
   ]
  },
  {
   "cell_type": "markdown",
   "metadata": {},
   "source": [
    "## Word2Vec - Training"
   ]
  },
  {
   "cell_type": "markdown",
   "metadata": {},
   "source": [
    "### Probabiity computation\n",
    "\n",
    "$$ \\Large P(w_o|w_c) = \\frac{exp(u_o^T v_c)}{\\sum_{w=1}^{V}exp(u_w^T v_c)}$$\n",
    "\n",
    "where\n",
    "* $w_o$ is an outside word\n",
    "* $w_c$ is the center word\n",
    "* $u_o$ is a context representation of a given word\n",
    "* $u_w$ is a context representation of a given word\n",
    "* $v_c$ is a central representation of a given word\n",
    "* $V$ is vocab size\n",
    "\n",
    "\n",
    "### Training\n",
    "\n",
    "#### Negative likelihood function\n",
    "\n",
    "$$ \\Large L(\\theta) = - \\frac{1}{T}\\prod_{t=1}^T \\prod_{-m\\leq j \\geq m; j \\neq 0} P(w_{t+j}|w_t; \\theta)$$\n",
    "\n",
    "where \n",
    "* $T$ is a number of positions in the entire corpus\n",
    "* $m$ is the window half-size\n",
    "\n",
    "\n",
    "#### Negative log-likelihood\n",
    "\n",
    "$$ \\Large log L(\\theta) = - \\frac{1}{T}\\sum_{t=1}^T \\sum_{-m\\leq j \\geq m; j \\neq 0} log P(w_{t+j}|w_t; \\theta)$$\n",
    "\n",
    "where \n",
    "* $T$ is a number of positions in the entire corpus\n",
    "* $m$ is the window half-size\n",
    "\n",
    "\n",
    "\n",
    "#### Let's minimize\n",
    "\n",
    "To train your model you need to compute all vector gradients!\n",
    "\n",
    "Let's use our probability computation in the log-likelihood function.\n",
    "\n",
    "$$ \\Large log L(\\theta) = - \\frac{1}{T}\\sum_{t=1}^T \\sum_{-m\\leq j \\geq m; j \\neq 0} log(\\frac{exp(u_o^T v_c)}{\\sum_{w=1}^{V}exp(u_w^T v_c)})$$\n",
    "\n",
    "\n",
    "<br><br><br><br><br>\n",
    "\n",
    "In order to minimize $log L(\\theta)$ we need gradients.\n",
    "\n",
    "$$ \\Large \\frac{\\partial}{\\partial v_c} log(\\frac{exp(u_o^T v_c)}{\\sum_{w=1}^{V}exp(u_w^T v_c)})$$\n",
    "\n",
    "\n",
    "\n",
    "<br><br><br><br><br>\n",
    "\n",
    "Log of a division can be seen as a subtraction of logs:\n",
    "\n",
    "$$ \\Large \\frac{\\partial}{\\partial v_c} log(exp(u_o^T v_c)) - log(\\sum_{w=1}^{V}exp(u_w^T v_c))$$\n",
    "\n",
    "<br><br><br><br><br>\n",
    "\n",
    "How can we simplify this? ❓❓❓\n",
    "\n",
    "\n",
    "<br><br><br><br><br><br><br><br><br><br>\n",
    "\n",
    "$$ \\Large \\frac{\\partial}{\\partial v_c} u_o^T v_c - log\\sum_{w=1}^{V}exp(u_w^T v_c)$$\n",
    "\n",
    "<br><br><br><br><br>\n",
    "\n",
    "Why does it work?\n",
    "\n"
   ]
  },
  {
   "cell_type": "code",
   "execution_count": 30,
   "metadata": {},
   "outputs": [
    {
     "data": {
      "text/plain": [
       "32.0"
      ]
     },
     "execution_count": 30,
     "metadata": {},
     "output_type": "execute_result"
    }
   ],
   "source": [
    "x = 32\n",
    "\n",
    "np.log(np.exp(x)) "
   ]
  },
  {
   "cell_type": "markdown",
   "metadata": {},
   "source": [
    "\n",
    "<br><br><br><br><br>\n",
    "\n",
    "Let's simplify further. What's the partial derivative of $\\frac{\\partial}{\\partial v_c} u_o^T v_c $? ❓❓❓\n",
    "\n",
    "\n",
    "<br><br><br><br><br><br><br><br><br><br>\n",
    "\n",
    "$$ \\Large \\frac{\\partial}{\\partial v_c} u_o^T v_c = u_o $$\n",
    "\n",
    "<br><br><br><br><br>\n",
    "\n",
    "Now, let's focus on the second part:\n",
    "\n",
    "\n",
    "$$ \\Large \\frac{\\partial}{\\partial v_c} - log\\sum_{w=1}^{V}exp(u_w^T v_c)$$\n",
    "\n",
    "\n",
    "<br><br><br><br><br>\n",
    "\n",
    "Let's **ignore the minus sign** for a while apply the **chain rule** 🚀 to the folowing expression:\n",
    "\n",
    "$$ \\Large \\frac{\\partial}{\\partial v_c} log\\sum_{w=1}^{V}exp(u_w^T v_c)$$\n",
    "\n",
    "<br><br><br><br><br>\n",
    "\n",
    "This gives us:\n",
    "\n",
    "$$ \\Large \\frac{1}{\\sum_{w=1}^{V}exp(u_w^T v_c)} \\cdot \\frac{\\partial}{\\partial v_c}\\sum_{x=1}^{V}exp(u_x^T v_c)$$\n",
    "\n",
    "<br><br><br><br><br>\n",
    "\n",
    "Distribute:\n",
    "\n",
    "$$ \\Large \\frac{1}{\\sum_{w=1}^{V}exp(u_w^T v_c)} \\cdot \\sum_{x=1}^{V}\\frac{\\partial}{\\partial v_c}exp(u_x^T v_c)$$\n",
    "\n",
    "<br><br><br><br><br>\n",
    "\n",
    "And now... \n",
    "\n",
    "<br><br><br><br><br>\n",
    "\n",
    "The **chain rule** again! 🚀\n",
    "\n",
    "<br><br><br>\n",
    "\n",
    "$$ \\Large \\frac{1}{\\sum_{w=1}^{V}exp(u_w^T v_c)} \\cdot \\sum_{x=1}^{V}exp(u_x^T v_c)u_x$$\n",
    "\n",
    "<br><br><br><br><br>\n",
    "🌺 Let's prettify this a bit:\n",
    "\n",
    "$$ \\Large \\sum_{x=1}^{V}\\frac{exp(u_x^T v_c)}{\\sum_{w=1}^{V}exp(u_w^T v_c)}u_x$$\n",
    "\n",
    "\n",
    "<br><br><br><br><br>\n",
    "\n",
    "🧠 Remember our formula for computing probability of outside word $P(w_o|w_c)$? \n",
    "\n",
    "<br><br><br><br><br>\n",
    "\n",
    "$$ \\Large P(w_o|w_c) = \\frac{exp(u_o^T v_c)}{\\sum_{w=1}^{V}exp(u_w^T v_c)}$$\n",
    "\n",
    "Similar, ha?\n",
    "\n",
    "<br><br><br><br><br>\n",
    "\n",
    "💪🏼 Let's bring everythig together!\n",
    "\n",
    "<br><br>\n",
    "\n",
    "\n",
    "$$ \\Large \\frac{\\partial logprob}{\\partial v_c} = u_o - \\sum_{x=1}^{V}P(w_x|w_c)u_x$$\n",
    "\n",
    "<br><br><br><br><br>\n",
    "\n",
    "💎 Ok, we've got it for $v_c$! Now we need to appply similar computation for other parameters of the model ($u_o$). \n",
    "\n",
    "💎 We won't do it now, but feel free to do it at home!\n",
    "\n",
    "<br><br><br><br><br>"
   ]
  },
  {
   "cell_type": "markdown",
   "metadata": {},
   "source": [
    "## Additional tricks\n",
    "\n",
    "### Sub-sampling\n",
    "\n",
    "Sub-sampling reduces probability of using the most frequent (or the least frequent) words in the training.\n",
    "\n",
    "Note that the formula comes from Google implementation of W2V and it's slightly different from the one in he paper.\n",
    "\n",
    "\n",
    "$$ \\Large P(w_j) = (\\sqrt{\\frac{z(w_j)}{k}} + 1) \\frac{k}{z(w_j)} $$\n",
    "\n",
    "\n",
    "** Default value for $k = .001$\n"
   ]
  },
  {
   "cell_type": "code",
   "execution_count": 32,
   "metadata": {},
   "outputs": [],
   "source": [
    "def subsampling(freqs, k):\n",
    "    freqs = np.array(freqs)\n",
    "    return (np.sqrt(freqs / k) + 1) * k / freqs"
   ]
  },
  {
   "cell_type": "code",
   "execution_count": 33,
   "metadata": {},
   "outputs": [],
   "source": [
    "k = .001\n",
    "freqs = np.arange(.01, 1.1, .01)"
   ]
  },
  {
   "cell_type": "code",
   "execution_count": 34,
   "metadata": {},
   "outputs": [
    {
     "data": {
      "image/png": "[encoded data removed]",
      "text/plain": [
       "<Figure size 864x360 with 1 Axes>"
      ]
     },
     "metadata": {},
     "output_type": "display_data"
    }
   ],
   "source": [
    "plt.figure(figsize = (12, 5))\n",
    "\n",
    "for k in [0.000001, 0.0001, .001, .002]:\n",
    "    plt.plot(freqs, subsampling(freqs, k), label = k, alpha = .8)#, s = 3)\n",
    "plt.xlabel('Frequency')\n",
    "plt.ylabel('P(dataset)')\n",
    "plt.legend()\n",
    "plt.title('Word freq. vs chance to be in training')\n",
    "plt.show()"
   ]
  },
  {
   "cell_type": "markdown",
   "metadata": {},
   "source": [
    "### Negative sampling\n",
    "\n",
    "Instead of all negative examples (all words not present in the context), we will just update weights for a couple of randomly selected words. \n",
    "\n",
    "\n",
    "$$ \\Large P(w_i) = \\frac{f(w_i)^k}{\\sum_{j=0}^N(f(w_j)^k)}$$"
   ]
  },
  {
   "cell_type": "code",
   "execution_count": 35,
   "metadata": {},
   "outputs": [],
   "source": [
    "def negative_sampling(freqs, k):\n",
    "    freqs = np.array(freqs)\n",
    "    return freqs**k / np.sum(freqs**k)"
   ]
  },
  {
   "cell_type": "code",
   "execution_count": 36,
   "metadata": {},
   "outputs": [],
   "source": [
    "freqs = [20, 10, 100, 14]\n",
    "k = .75"
   ]
  },
  {
   "cell_type": "code",
   "execution_count": 37,
   "metadata": {},
   "outputs": [
    {
     "data": {
      "text/plain": [
       "array([0.17532815, 0.10425074, 0.586245  , 0.13417611])"
      ]
     },
     "execution_count": 37,
     "metadata": {},
     "output_type": "execute_result"
    }
   ],
   "source": [
    "negative_sampling(freqs, k)"
   ]
  },
  {
   "cell_type": "code",
   "execution_count": 38,
   "metadata": {},
   "outputs": [
    {
     "data": {
      "image/png": "[encoded data removed]",
      "text/plain": [
       "<Figure size 864x360 with 1 Axes>"
      ]
     },
     "metadata": {},
     "output_type": "display_data"
    }
   ],
   "source": [
    "freqs = np.arange(15, 1000)\n",
    "\n",
    "plt.figure(figsize = (12, 5))\n",
    "\n",
    "for k in [-.5, 0, .75]:\n",
    "    plt.scatter(freqs, negative_sampling(freqs, k), label = k, alpha = .8, s = 4)\n",
    "    plt.legend()\n",
    "\n",
    "plt.title('Frequency vs prob. of being chosen as a negative example')\n",
    "plt.xlabel('Frequency')\n",
    "plt.ylabel('P(negative)')\n",
    "plt.show()"
   ]
  },
  {
   "cell_type": "code",
   "execution_count": null,
   "metadata": {},
   "outputs": [],
   "source": []
  },
  {
   "cell_type": "code",
   "execution_count": null,
   "metadata": {},
   "outputs": [],
   "source": []
  }
 ],
 "metadata": {
  "kernelspec": {
   "display_name": "Python 3",
   "language": "python",
   "name": "python3"
  },
  "language_info": {
   "codemirror_mode": {
    "name": "ipython",
    "version": 3
   },
   "file_extension": ".py",
   "mimetype": "text/x-python",
   "name": "python",
   "nbconvert_exporter": "python",
   "pygments_lexer": "ipython3",
   "version": "3.6.5"
  }
 },
 "nbformat": 4,
 "nbformat_minor": 4
}
